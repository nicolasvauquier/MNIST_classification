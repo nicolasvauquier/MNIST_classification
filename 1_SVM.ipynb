{
 "cells": [
  {
   "cell_type": "markdown",
   "metadata": {
    "collapsed": true
   },
   "source": [
    "# **Classifieur SVM**\n",
    "\n",
    "Dans cette prmière approche nous allons résoudre le problème de reconnaissance de caractère à l'aide d'un classifieur SVM.\n",
    "Cette approche est constituée de plusieurs étapes:\n",
    "* **Réduction de dimension par Analyse en Composante Principale (ACP):** L'ACP consiste à projeter les données sur un nombre d'axe choisi en maximisant les variances obtenues sur chaque dimension. Cela permet de conserver un maximum d'information.\n",
    "\n",
    "* **Création du classifieur SVM:** Permet de classifier nos différentes images.\n",
    "\n",
    "### **ACP**\n",
    "\n",
    "Nous allons maintenant présenter les résultats de l'ACP pour différentes valeurs du nombre de composants en classifiant les données obtenues par un SVM simple(C=1.0, kernel linear). Cela nous permettra de choisir sur combien de composants projeter notre image."
   ]
  },
  {
   "cell_type": "code",
   "execution_count": 14,
   "metadata": {
    "collapsed": false
   },
   "outputs": [
    {
     "name": "stdout",
     "output_type": "stream",
     "text": [
      "Accuracy: [0.78000000000000003, 0.87, 0.89666666666666661, 0.90666666666666662, 0.90666666666666662, 0.89666666666666661, 0.90333333333333332, 0.89666666666666661, 0.90000000000000002, 0.90333333333333332, 0.90333333333333332, 0.90333333333333332, 0.90333333333333332, 0.90333333333333332]\n"
     ]
    },
    {
     "data": {
      "image/png": "[encoded data removed]",
      "text/plain": [
       "<matplotlib.figure.Figure at 0x1956a3b5668>"
      ]
     },
     "metadata": {},
     "output_type": "display_data"
    },
    {
     "data": {
      "text/plain": [
       "1"
      ]
     },
     "execution_count": 14,
     "metadata": {},
     "output_type": "execute_result"
    }
   ],
   "source": [
    "# Librairies\n",
    "import numpy as np\n",
    "import matplotlib.pyplot as plt\n",
    "from keras.datasets import mnist\n",
    "from skimage.feature import hog\n",
    "from sklearn import svm\n",
    "from sklearn.decomposition import PCA\n",
    "from sklearn.metrics import accuracy_score\n",
    "\n",
    "seed = 7\n",
    "np.random.seed(seed)\n",
    "\n",
    "# Importer la base de donnée\n",
    "(X_train, y_train), (X_test, y_test) = mnist.load_data()\n",
    "X_train = X_train.astype('float')\n",
    "X_test = X_test.astype('float')\n",
    "X_train = X_train.reshape((len(X_train), 28*28))\n",
    "X_test = X_test.reshape((len(X_test), 28*28))\n",
    "\n",
    "\n",
    "# Réduction par ACP\n",
    "\n",
    "\n",
    "def plot_ACP(x_train, x_test, y_train, y_test):\n",
    "    \"\"\"\n",
    "    Trace le pourcentage de la variance totale projetée sur n composantsen fonction du nombre de composant\n",
    "    \"\"\"\n",
    "    ratio_var = []\n",
    "    acc_pca=[]\n",
    "    clf = svm.SVC(kernel='linear', C=1.0, class_weight='balanced')\n",
    "    for i in [10, 50, 100, 125, 150, 175, 200, 250, 300, 350, 400, 500, 600, 783]:\n",
    "        x_train_pca = x_train\n",
    "        x_test_pca = x_test\n",
    "        pca = PCA(n_components=i)\n",
    "        pca.fit(x_train_pca)\n",
    "        x_train_pca = pca.transform(x_train_pca)\n",
    "        ratio_var.append(sum(pca.explained_variance_ratio_)) # sum variance of each component\n",
    "    \n",
    "        clf.fit(x_train_pca, y_train)\n",
    "        x_test_pca = pca.transform(x_test_pca)\n",
    "        pred = clf.predict(x_test_pca)\n",
    "        acc = accuracy_score(pred, y_test)\n",
    "        acc_pca.append(acc)\n",
    "    \n",
    "    plt.subplot(1, 2, 1)\n",
    "    plt.plot([10, 50, 100, 125, 135, 150, 175, 200, 250, 300, 350, 400, 500, 783], ratio_var)\n",
    "    plt.xlabel(\"Nombre de composants\")\n",
    "    plt.ylabel(\"Pourcentage de la variance totale\")\n",
    "    plt.subplot(1, 2, 2)\n",
    "    plt.plot([10, 50, 100, 125, 150, 175, 200, 250, 300, 350, 400, 500, 600, 783], acc_pca)\n",
    "    plt.xlabel(\"Nombre de composant\")\n",
    "    plt.ylabel(\"Pourcentage de prédiction juste\")\n",
    "    print(\"Accuracy:\", acc_pca)\n",
    "    plt.show()\n",
    "    return 1\n",
    "\n",
    "# Nous appliquons la fonction à un nombre plus réduit d'image afin de racourcir le temps d'exécution.\n",
    "plot_ACP(X_train[0:1000], X_test[0:300], y_train[0:1000], y_test[0:300])"
   ]
  },
  {
   "cell_type": "markdown",
   "metadata": {},
   "source": [
    "On observe qu'autour de 130 composants on obtient un maximum de pourcentage de prédiction juste avec un SVM linéaire. On choisira donc donc pour la suite cette valeur de nombre de composant.\n",
    "\n",
    "### **Optimisation des paramètres SVM**\n",
    "\n",
    "Nous allons maintenant chercher à optimiser les différents paramètres de notrs SVM afin d'optenir les meilleures performances possibles."
   ]
  },
  {
   "cell_type": "code",
   "execution_count": 15,
   "metadata": {},
   "outputs": [
    {
     "name": "stdout",
     "output_type": "stream",
     "text": [
      "Meilleurs paramètres: {'kernel': 'poly', 'C': 0.01}\nAccuracy: 0.9704\n"
     ]
    }
   ],
   "source": [
    "# Réduction par ACP\n",
    "from sklearn.model_selection import GridSearchCV\n",
    "n_components = 130\n",
    "pca = PCA(n_components=n_components)\n",
    "pca.fit(X_train)\n",
    "X_train = pca.transform(X_train)\n",
    "X_test = pca.transform(X_test)\n",
    "\n",
    "C = [0.01, 0.02, 0.03, 0.04, 0.05, 0.06, 0.07, 0.08, 0.09, 0.1]\n",
    "kernel = ['linear', 'poly', 'rbf', 'sigmoid']\n",
    "\n",
    "parameters = {'kernel': kernel, 'C': C} \n",
    "svm_clsf = svm.SVC()\n",
    "grid_clsf = GridSearchCV(estimator=svm_clsf, param_grid=parameters, n_jobs=1, verbose=0)\n",
    "\n",
    "grid_clsf.fit(X_train[0:10000], y_train[0:10000])\n",
    "\n",
    "classifier = grid_clsf.best_estimator_\n",
    "params = grid_clsf.best_params_\n",
    "\n",
    "pred = grid_clsf.predict(X_test)\n",
    "acc = accuracy_score(pred, y_test)\n",
    "\n",
    "print(\"Meilleurs paramètres:\", params)\n",
    "print(\"Accuracy:\", acc)"
   ]
  },
  {
   "cell_type": "markdown",
   "metadata": {},
   "source": [
    "Les paramètres permettant d'obtenir les meilleurs résultats sont: kernel='poly' et C=0.01. Pour des raisons de vitesse d'éxecution nous effectué l'apprentissage avec 10000 images. Nous allons maintenant tester les résultats sur la totalité de la base de donnée."
   ]
  },
  {
   "cell_type": "code",
   "execution_count": 16,
   "metadata": {},
   "outputs": [
    {
     "name": "stdout",
     "output_type": "stream",
     "text": [
      "Accuracy: 0.9841\n"
     ]
    }
   ],
   "source": [
    "svm = svm.SVC(C=0.01, kernel='poly')\n",
    "svm.fit(X_train, y_train)\n",
    "pred = svm.predict(X_test) \n",
    "acc = accuracy_score(pred, y_test)\n",
    "\n",
    "print(\"Accuracy:\", acc)"
   ]
  },
  {
   "cell_type": "markdown",
   "metadata": {},
   "source": [
    "### **Résultats**\n",
    "\n",
    "On obtient donc finalement un taux de prédiction juste de 98,41% ce qui est un bon résultat."
   ]
  },
  {
   "cell_type": "code",
   "execution_count": null,
   "metadata": {},
   "outputs": [],
   "source": [
    ""
   ]
  }
 ],
 "metadata": {
  "kernelspec": {
   "display_name": "Python 2",
   "language": "python",
   "name": "python2"
  },
  "language_info": {
   "codemirror_mode": {
    "name": "ipython",
    "version": 2.0
   },
   "file_extension": ".py",
   "mimetype": "text/x-python",
   "name": "python",
   "nbconvert_exporter": "python",
   "pygments_lexer": "ipython2",
   "version": "2.7.6"
  }
 },
 "nbformat": 4,
 "nbformat_minor": 0
}