{
 "cells": [
  {
   "cell_type": "markdown",
   "metadata": {
    "collapsed": true
   },
   "source": [
    "# **Réseau de neurone de convolution**\n",
    "\n",
    "Dans cette approche nous testerons un réseau de neurone de convolution afin de résudre le problème posé. "
   ]
  },
  {
   "cell_type": "code",
   "execution_count": 10,
   "metadata": {},
   "outputs": [],
   "source": [
    "# Create a CNN for MNIST\n",
    "import numpy\n",
    "from keras.datasets import mnist\n",
    "from keras.models import Sequential\n",
    "from keras.layers import Dense\n",
    "from keras.layers import Dropout\n",
    "from keras.layers import Flatten\n",
    "from keras.layers.convolutional import Conv2D\n",
    "from keras.layers.convolutional import MaxPooling2D\n",
    "from keras.optimizers import SGD\n",
    "from keras.utils import np_utils\n",
    "from keras import backend as K\n",
    "K.set_image_dim_ordering('th')\n",
    "\n",
    "seed = 7\n",
    "numpy.random.seed(seed)\n",
    "# Load data\n",
    "(X_train, y_train), (X_test, y_test) = mnist.load_data()\n",
    "# reshape\n",
    "X_train = X_train.reshape(X_train.shape[0], 1, 28, 28).astype('float32')  # permet plus tard d'utiliser Conv2D\n",
    "X_test = X_test.reshape(X_test.shape[0], 1, 28, 28).astype('float32')  # permet plus tard d'utiliser Conv2D\n",
    "# normalize\n",
    "X_train = X_train/255\n",
    "X_test = X_test/255\n",
    "\n",
    "# one hot encode output\n",
    "y_train = np_utils.to_categorical(y_train)\n",
    "y_test = np_utils.to_categorical(y_test)\n",
    "num_classes = y_test.shape[1]"
   ]
  },
  {
   "cell_type": "code",
   "execution_count": 16,
   "metadata": {
    "collapsed": false
   },
   "outputs": [
    {
     "name": "stdout",
     "output_type": "stream",
     "text": [
      "Train on 60000 samples, validate on 10000 samples\nEpoch 1/50\n"
     ]
    },
    {
     "name": "stdout",
     "output_type": "stream",
     "text": [
      "26s - loss: 0.5990 - acc: 0.8041 - val_loss: 0.1115 - val_acc: 0.9643\nEpoch 2/50\n"
     ]
    },
    {
     "name": "stdout",
     "output_type": "stream",
     "text": [
      "25s - loss: 0.1735 - acc: 0.9455 - val_loss: 0.0704 - val_acc: 0.9780\nEpoch 3/50\n"
     ]
    },
    {
     "name": "stdout",
     "output_type": "stream",
     "text": [
      "25s - loss: 0.1267 - acc: 0.9606 - val_loss: 0.0609 - val_acc: 0.9807\nEpoch 4/50\n"
     ]
    },
    {
     "name": "stdout",
     "output_type": "stream",
     "text": [
      "25s - loss: 0.1042 - acc: 0.9676 - val_loss: 0.0451 - val_acc: 0.9854\nEpoch 5/50\n"
     ]
    },
    {
     "name": "stdout",
     "output_type": "stream",
     "text": [
      "25s - loss: 0.0887 - acc: 0.9719 - val_loss: 0.0385 - val_acc: 0.9882\nEpoch 6/50\n"
     ]
    },
    {
     "name": "stdout",
     "output_type": "stream",
     "text": [
      "25s - loss: 0.0808 - acc: 0.9738 - val_loss: 0.0377 - val_acc: 0.9871\nEpoch 7/50\n"
     ]
    },
    {
     "name": "stdout",
     "output_type": "stream",
     "text": [
      "25s - loss: 0.0722 - acc: 0.9773 - val_loss: 0.0313 - val_acc: 0.9906\nEpoch 8/50\n"
     ]
    },
    {
     "name": "stdout",
     "output_type": "stream",
     "text": [
      "25s - loss: 0.0693 - acc: 0.9786 - val_loss: 0.0307 - val_acc: 0.9906\nEpoch 9/50\n"
     ]
    },
    {
     "name": "stdout",
     "output_type": "stream",
     "text": [
      "25s - loss: 0.0648 - acc: 0.9800 - val_loss: 0.0279 - val_acc: 0.9909\nEpoch 10/50\n"
     ]
    },
    {
     "name": "stdout",
     "output_type": "stream",
     "text": [
      "25s - loss: 0.0590 - acc: 0.9813 - val_loss: 0.0281 - val_acc: 0.9910\nEpoch 11/50\n"
     ]
    },
    {
     "name": "stdout",
     "output_type": "stream",
     "text": [
      "25s - loss: 0.0563 - acc: 0.9827 - val_loss: 0.0249 - val_acc: 0.9923\nEpoch 12/50\n"
     ]
    },
    {
     "name": "stdout",
     "output_type": "stream",
     "text": [
      "25s - loss: 0.0548 - acc: 0.9824 - val_loss: 0.0283 - val_acc: 0.9902\nEpoch 13/50\n"
     ]
    },
    {
     "name": "stdout",
     "output_type": "stream",
     "text": [
      "25s - loss: 0.0512 - acc: 0.9836 - val_loss: 0.0240 - val_acc: 0.9925\nEpoch 14/50\n"
     ]
    },
    {
     "name": "stdout",
     "output_type": "stream",
     "text": [
      "25s - loss: 0.0481 - acc: 0.9848 - val_loss: 0.0237 - val_acc: 0.9918\nEpoch 15/50\n"
     ]
    },
    {
     "name": "stdout",
     "output_type": "stream",
     "text": [
      "25s - loss: 0.0470 - acc: 0.9854 - val_loss: 0.0241 - val_acc: 0.9922\nEpoch 16/50\n"
     ]
    },
    {
     "name": "stdout",
     "output_type": "stream",
     "text": [
      "25s - loss: 0.0444 - acc: 0.9857 - val_loss: 0.0248 - val_acc: 0.9921\nEpoch 17/50\n"
     ]
    },
    {
     "name": "stdout",
     "output_type": "stream",
     "text": [
      "25s - loss: 0.0442 - acc: 0.9858 - val_loss: 0.0236 - val_acc: 0.9926\nEpoch 18/50\n"
     ]
    },
    {
     "name": "stdout",
     "output_type": "stream",
     "text": [
      "25s - loss: 0.0432 - acc: 0.9860 - val_loss: 0.0223 - val_acc: 0.9922\nEpoch 19/50\n"
     ]
    },
    {
     "name": "stdout",
     "output_type": "stream",
     "text": [
      "25s - loss: 0.0415 - acc: 0.9867 - val_loss: 0.0234 - val_acc: 0.9927\nEpoch 20/50\n"
     ]
    },
    {
     "name": "stdout",
     "output_type": "stream",
     "text": [
      "25s - loss: 0.0413 - acc: 0.9859 - val_loss: 0.0223 - val_acc: 0.9926\nEpoch 21/50\n"
     ]
    },
    {
     "name": "stdout",
     "output_type": "stream",
     "text": [
      "25s - loss: 0.0373 - acc: 0.9876 - val_loss: 0.0211 - val_acc: 0.9934\nEpoch 22/50\n"
     ]
    },
    {
     "name": "stdout",
     "output_type": "stream",
     "text": [
      "25s - loss: 0.0360 - acc: 0.9883 - val_loss: 0.0222 - val_acc: 0.9923\nEpoch 23/50\n"
     ]
    },
    {
     "name": "stdout",
     "output_type": "stream",
     "text": [
      "25s - loss: 0.0365 - acc: 0.9877 - val_loss: 0.0203 - val_acc: 0.9935\nEpoch 24/50\n"
     ]
    },
    {
     "name": "stdout",
     "output_type": "stream",
     "text": [
      "25s - loss: 0.0345 - acc: 0.9887 - val_loss: 0.0209 - val_acc: 0.9933\nEpoch 25/50\n"
     ]
    },
    {
     "name": "stdout",
     "output_type": "stream",
     "text": [
      "25s - loss: 0.0350 - acc: 0.9884 - val_loss: 0.0204 - val_acc: 0.9932\nEpoch 26/50\n"
     ]
    },
    {
     "name": "stdout",
     "output_type": "stream",
     "text": [
      "25s - loss: 0.0349 - acc: 0.9886 - val_loss: 0.0199 - val_acc: 0.9938\nEpoch 27/50\n"
     ]
    },
    {
     "name": "stdout",
     "output_type": "stream",
     "text": [
      "25s - loss: 0.0334 - acc: 0.9888 - val_loss: 0.0208 - val_acc: 0.9930\nEpoch 28/50\n"
     ]
    },
    {
     "name": "stdout",
     "output_type": "stream",
     "text": [
      "25s - loss: 0.0320 - acc: 0.9892 - val_loss: 0.0207 - val_acc: 0.9934\nEpoch 29/50\n"
     ]
    },
    {
     "name": "stdout",
     "output_type": "stream",
     "text": [
      "25s - loss: 0.0330 - acc: 0.9893 - val_loss: 0.0198 - val_acc: 0.9936\nEpoch 30/50\n"
     ]
    },
    {
     "name": "stdout",
     "output_type": "stream",
     "text": [
      "25s - loss: 0.0327 - acc: 0.9893 - val_loss: 0.0193 - val_acc: 0.9942\nEpoch 31/50\n"
     ]
    },
    {
     "name": "stdout",
     "output_type": "stream",
     "text": [
      "25s - loss: 0.0306 - acc: 0.9901 - val_loss: 0.0203 - val_acc: 0.9940\nEpoch 32/50\n"
     ]
    },
    {
     "name": "stdout",
     "output_type": "stream",
     "text": [
      "25s - loss: 0.0304 - acc: 0.9903 - val_loss: 0.0192 - val_acc: 0.9944\nEpoch 33/50\n"
     ]
    },
    {
     "name": "stdout",
     "output_type": "stream",
     "text": [
      "25s - loss: 0.0310 - acc: 0.9895 - val_loss: 0.0197 - val_acc: 0.9945\nEpoch 34/50\n"
     ]
    },
    {
     "name": "stdout",
     "output_type": "stream",
     "text": [
      "25s - loss: 0.0304 - acc: 0.9903 - val_loss: 0.0187 - val_acc: 0.9944\nEpoch 35/50\n"
     ]
    },
    {
     "name": "stdout",
     "output_type": "stream",
     "text": [
      "25s - loss: 0.0283 - acc: 0.9902 - val_loss: 0.0192 - val_acc: 0.9943\nEpoch 36/50\n"
     ]
    },
    {
     "name": "stdout",
     "output_type": "stream",
     "text": [
      "25s - loss: 0.0298 - acc: 0.9903 - val_loss: 0.0193 - val_acc: 0.9935\nEpoch 37/50\n"
     ]
    },
    {
     "name": "stdout",
     "output_type": "stream",
     "text": [
      "25s - loss: 0.0280 - acc: 0.9908 - val_loss: 0.0192 - val_acc: 0.9943\nEpoch 38/50\n"
     ]
    },
    {
     "name": "stdout",
     "output_type": "stream",
     "text": [
      "25s - loss: 0.0283 - acc: 0.9908 - val_loss: 0.0190 - val_acc: 0.9940\nEpoch 39/50\n"
     ]
    },
    {
     "name": "stdout",
     "output_type": "stream",
     "text": [
      "25s - loss: 0.0279 - acc: 0.9908 - val_loss: 0.0189 - val_acc: 0.9944\nEpoch 40/50\n"
     ]
    },
    {
     "name": "stdout",
     "output_type": "stream",
     "text": [
      "25s - loss: 0.0261 - acc: 0.9916 - val_loss: 0.0188 - val_acc: 0.9944\nEpoch 41/50\n"
     ]
    },
    {
     "name": "stdout",
     "output_type": "stream",
     "text": [
      "25s - loss: 0.0271 - acc: 0.9911 - val_loss: 0.0184 - val_acc: 0.9944\nEpoch 42/50\n"
     ]
    },
    {
     "name": "stdout",
     "output_type": "stream",
     "text": [
      "25s - loss: 0.0266 - acc: 0.9909 - val_loss: 0.0200 - val_acc: 0.9937\nEpoch 43/50\n"
     ]
    },
    {
     "name": "stdout",
     "output_type": "stream",
     "text": [
      "25s - loss: 0.0271 - acc: 0.9910 - val_loss: 0.0189 - val_acc: 0.9939\nEpoch 44/50\n"
     ]
    },
    {
     "name": "stdout",
     "output_type": "stream",
     "text": [
      "25s - loss: 0.0264 - acc: 0.9910 - val_loss: 0.0188 - val_acc: 0.9945\nEpoch 45/50\n"
     ]
    },
    {
     "name": "stdout",
     "output_type": "stream",
     "text": [
      "25s - loss: 0.0246 - acc: 0.9917 - val_loss: 0.0188 - val_acc: 0.9943\nEpoch 46/50\n"
     ]
    },
    {
     "name": "stdout",
     "output_type": "stream",
     "text": [
      "25s - loss: 0.0262 - acc: 0.9912 - val_loss: 0.0185 - val_acc: 0.9944\nEpoch 47/50\n"
     ]
    },
    {
     "name": "stdout",
     "output_type": "stream",
     "text": [
      "25s - loss: 0.0249 - acc: 0.9915 - val_loss: 0.0184 - val_acc: 0.9942\nEpoch 48/50\n"
     ]
    },
    {
     "name": "stdout",
     "output_type": "stream",
     "text": [
      "25s - loss: 0.0244 - acc: 0.9917 - val_loss: 0.0205 - val_acc: 0.9935\nEpoch 49/50\n"
     ]
    },
    {
     "name": "stdout",
     "output_type": "stream",
     "text": [
      "25s - loss: 0.0252 - acc: 0.9920 - val_loss: 0.0186 - val_acc: 0.9944\nEpoch 50/50\n"
     ]
    },
    {
     "name": "stdout",
     "output_type": "stream",
     "text": [
      "25s - loss: 0.0241 - acc: 0.9922 - val_loss: 0.0193 - val_acc: 0.9942\n"
     ]
    },
    {
     "name": "stdout",
     "output_type": "stream",
     "text": [
      "Large CNN Error: 0.58%\n"
     ]
    }
   ],
   "source": [
    "def model():\n",
    "    # create model\n",
    "    model = Sequential()\n",
    "    model.add(Conv2D(30, (3, 3), input_shape=(1, 28, 28), activation='relu'))\n",
    "    model.add(MaxPooling2D(pool_size=(2, 2)))\n",
    "    model.add(Conv2D(15, (3, 3), activation='relu'))\n",
    "    model.add(MaxPooling2D(pool_size=(2, 2)))\n",
    "    model.add(Conv2D(15, (1, 1), activation='relu'))\n",
    "    model.add(Dropout(0.3))\n",
    "    model.add(Flatten())\n",
    "    model.add(Dense(512, activation='relu'))\n",
    "    model.add(Dropout(0.3))\n",
    "    model.add(Dense(256, activation='relu'))\n",
    "    model.add(Dense(num_classes, activation='softmax'))\n",
    "    # compile model\n",
    "    \n",
    "    sgd = SGD(lr=0.2, momentum=0.0, decay=0.0001, nesterov=False)\n",
    "    model.compile(loss='categorical_crossentropy', optimizer=sgd, metrics=['accuracy'])\n",
    "    return model\n",
    "\n",
    "# build model\n",
    "model = model()\n",
    "# fit the model\n",
    "model.fit(X_train, y_train, validation_data=(X_test, y_test), epochs=50, batch_size=200, verbose=2)\n",
    "# final evaluation\n",
    "scores = model.evaluate(X_test, y_test, verbose=0)\n",
    "print(\"Large CNN Error: %.2f%%\" % (100-scores[1]*100))"
   ]
  },
  {
   "cell_type": "code",
   "execution_count": 17,
   "metadata": {},
   "outputs": [
    {
     "name": "stdout",
     "output_type": "stream",
     "text": [
      "Accuracy 0.9942\n"
     ]
    }
   ],
   "source": [
    "print('Accuracy', scores[1])"
   ]
  },
  {
   "cell_type": "markdown",
   "metadata": {},
   "source": [
    "### ** Résultat **\n",
    "\n",
    "Nous obtenons donc un taux de réponse juste de plus de 99,42% ce qui constitue un très bon résultat."
   ]
  },
  {
   "cell_type": "code",
   "execution_count": null,
   "metadata": {},
   "outputs": [],
   "source": [
    ""
   ]
  }
 ],
 "metadata": {
  "kernelspec": {
   "display_name": "Python 2",
   "language": "python",
   "name": "python2"
  },
  "language_info": {
   "codemirror_mode": {
    "name": "ipython",
    "version": 2.0
   },
   "file_extension": ".py",
   "mimetype": "text/x-python",
   "name": "python",
   "nbconvert_exporter": "python",
   "pygments_lexer": "ipython2",
   "version": "2.7.6"
  }
 },
 "nbformat": 4,
 "nbformat_minor": 0
}