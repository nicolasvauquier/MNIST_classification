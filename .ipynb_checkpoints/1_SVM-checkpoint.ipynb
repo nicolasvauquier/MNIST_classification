{
 "cells": [
  {
   "cell_type": "markdown",
   "metadata": {
    "collapsed": true
   },
   "source": [
    "# **Classifieur SVM**\n",
    "\n",
    "Dans cette prmière approche nous allons résoudre le problème de reconnaissance de caractère à l'aide d'un classifieur SVM.\n",
    "Cette approche est constituée de plusieurs étapes:\n",
    "* Sélection de features (caractéristiques d'une images à partir de laquelle sera effectué l'apprentissage)\n",
    "* Création du classifieur SVM"
   ]
  },
  {
   "cell_type": "code",
   "execution_count": 2,
   "metadata": {
    "collapsed": true
   },
   "outputs": [],
   "source": [
    "# Librairie\n",
    "import numpy\n",
    "import matplotlib.pyplot as plt\n",
    "from keras.datasets import mnist\n",
    "from skimage.feature import hog\n",
    "\n",
    "seed = 7\n",
    "numpy.random.seed(seed)\n",
    "\n",
    "# Importer la base de donnée\n",
    "(X_train, y_train), (X_test, y_test) = mnist.load_data()"
   ]
  },
  {
   "cell_type": "markdown",
   "metadata": {},
   "source": [
    "### **Extraction de features**\n",
    "\n",
    "\n"
   ]
  },
  {
   "cell_type": "code",
   "execution_count": 27,
   "metadata": {},
   "outputs": [
    {
     "name": "stderr",
     "output_type": "stream",
     "text": [
      "C:\\Users\\Nicolas\\Anaconda3\\lib\\site-packages\\skimage\\feature\\_hog.py:119: skimage_deprecation: Default value of `block_norm`==`L1` is deprecated and will be changed to `L2-Hys` in v0.15\n",
      "  'be changed to `L2-Hys` in v0.15', skimage_deprecation)\n"
     ]
    },
    {
     "data": {
      "image/png": "[encoded data removed]",
      "text/plain": [
       "<matplotlib.figure.Figure at 0x22b219d9208>"
      ]
     },
     "metadata": {},
     "output_type": "display_data"
    }
   ],
   "source": [
    "# Quelques exemple de HOG\n",
    "\n",
    "X_image = []\n",
    "for i in range(0, 4):\n",
    "    X, X_image = hog(X_train[i], pixels_per_cell=(4, 4), cells_per_block=(7, 7), visualise=True)\n",
    "    plt.subplot(2, 2, i+1)\n",
    "    plt.imshow(X_image)\n",
    "plt.show()\n",
    "\n",
    "\n",
    "def feature_standardization(x, y):\n",
    "    \"\"\"\n",
    "    Effectue l'extraction de feature ainsi qu'une standardisation\n",
    "    :return: x_feature\n",
    "     \"\"\"\n",
    "    # extraction de feature\n",
    "    for i in range(0, len(x)):\n",
    "        x_feature[i] = hog(x[i], pixels_per_cell=(4, 4), cells_per_block=(7, 7))\n",
    "    # standardisation\n",
    "    "
   ]
  },
  {
   "cell_type": "code",
   "execution_count": null,
   "metadata": {
    "collapsed": true
   },
   "outputs": [],
   "source": []
  }
 ],
 "metadata": {
  "kernelspec": {
   "display_name": "Python 3",
   "language": "python",
   "name": "python3"
  },
  "language_info": {
   "codemirror_mode": {
    "name": "ipython",
    "version": 3
   },
   "file_extension": ".py",
   "mimetype": "text/x-python",
   "name": "python",
   "nbconvert_exporter": "python",
   "pygments_lexer": "ipython3",
   "version": "3.5.3"
  }
 },
 "nbformat": 4,
 "nbformat_minor": 1
}
