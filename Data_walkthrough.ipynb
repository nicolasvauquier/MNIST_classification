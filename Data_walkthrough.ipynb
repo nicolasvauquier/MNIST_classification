{
 "cells": [
  {
   "cell_type": "markdown",
   "metadata": {
    "collapsed": true
   },
   "source": [
    "# **Exploration de la base de donnée**\n",
    "\n",
    "Nous allons tout d'abord explorer la base de donnée MNIST qui se constitue d'image de chiffre (de 0 à 9). Il y a donc 10 classes différentes."
   ]
  },
  {
   "cell_type": "code",
   "execution_count": 5,
   "metadata": {},
   "outputs": [
    {
     "name": "stdout",
     "output_type": "stream",
     "text": [
      "Longueur de X_train: 60000\nLongueur de y_train: 60000\nLongueur de X_test: 10000\nLongueur de y_test: 10000\nDimension d'une image: (28, 28)\n"
     ]
    }
   ],
   "source": [
    "# Bibliothèque\n",
    "from keras.datasets import mnist\n",
    "import matplotlib.pyplot as plt\n",
    "\n",
    "# Importation de la base de donnée\n",
    "(X_train, y_train), (X_test, y_test) = mnist.load_data()\n",
    "\n",
    "# Nombre d'élément dans les bases de donnée d'entrainement et de test\n",
    "print(\"Longueur de X_train:\", len(X_train))\n",
    "print(\"Longueur de y_train:\", len(y_train))\n",
    "print(\"Longueur de X_test:\", len(X_test))\n",
    "print(\"Longueur de y_test:\", len(y_test))\n",
    "print(\"Dimension d'une image:\", X_train[1].shape)"
   ]
  },
  {
   "cell_type": "code",
   "execution_count": 12,
   "metadata": {},
   "outputs": [
    {
     "data": {
      "image/png": "[encoded data removed]",
      "text/plain": [
       "<matplotlib.figure.Figure at 0x1ae261925f8>"
      ]
     },
     "metadata": {},
     "output_type": "display_data"
    }
   ],
   "source": [
    "# Tracé de quelques exemples\n",
    "plt.subplot(2, 2, 1)\n",
    "plt.imshow(X_train[0], cmap=plt.get_cmap('gray'))\n",
    "plt.subplot(2, 2, 2)\n",
    "plt.imshow(X_train[1], cmap=plt.get_cmap('gray'))\n",
    "plt.subplot(2, 2, 3)\n",
    "plt.imshow(X_train[2], cmap=plt.get_cmap('gray'))\n",
    "plt.subplot(2, 2, 4)\n",
    "plt.imshow(X_train[3], cmap=plt.get_cmap('gray'))\n",
    "plt.show()"
   ]
  },
  {
   "cell_type": "code",
   "execution_count": 18,
   "metadata": {
    "collapsed": true
   },
   "outputs": [
    {
     "name": "stdout",
     "output_type": "stream",
     "text": [
      "Nombre de 0 dans X_train 5923\nNombre de 1 dans X_train 6742\nNombre de 2 dans X_train 5958\nNombre de 3 dans X_train 6131\nNombre de 4 dans X_train 5842\nNombre de 5 dans X_train 5421\nNombre de 6 dans X_train 5918\nNombre de 7 dans X_train 6265\nNombre de 8 dans X_train 5851\nNombre de 9 dans X_train 5949\n"
     ]
    }
   ],
   "source": [
    "# On compte le nombre d'éléments dan chaque classe dans la base de donnée X_tain\n",
    "num_0_train = (y_train == 0).sum()\n",
    "print(\"Nombre de 0 dans X_train\", num_0_train)\n",
    "num_1_train = (y_train == 1).sum()\n",
    "print(\"Nombre de 1 dans X_train\", num_1_train)\n",
    "num_2_train = (y_train == 2).sum()\n",
    "print(\"Nombre de 2 dans X_train\", num_2_train)\n",
    "num_3_train = (y_train == 3).sum()\n",
    "print(\"Nombre de 3 dans X_train\", num_3_train)\n",
    "num_4_train = (y_train == 4).sum()\n",
    "print(\"Nombre de 4 dans X_train\", num_4_train)\n",
    "num_5_train = (y_train == 5).sum()\n",
    "print(\"Nombre de 5 dans X_train\", num_5_train)\n",
    "num_6_train = (y_train == 6).sum()\n",
    "print(\"Nombre de 6 dans X_train\", num_6_train)\n",
    "num_7_train = (y_train == 7).sum()\n",
    "print(\"Nombre de 7 dans X_train\", num_7_train)\n",
    "num_8_train = (y_train == 8).sum()\n",
    "print(\"Nombre de 8 dans X_train\", num_8_train)\n",
    "num_9_train = (y_train == 9).sum()\n",
    "print(\"Nombre de 9 dans X_train\", num_9_train)"
   ]
  },
  {
   "cell_type": "markdown",
   "metadata": {},
   "source": [
    "On constate qu'il y a à peut près le même nombre d'image dans chaque classe ce qui permetra un bon apprentissage car aucune classe ne sera sous représentée."
   ]
  },
  {
   "cell_type": "code",
   "execution_count": 19,
   "metadata": {},
   "outputs": [
    {
     "name": "stdout",
     "output_type": "stream",
     "text": [
      "Nombre de 0 dans X_train 980\nNombre de 1 dans X_train 1135\nNombre de 2 dans X_train 1032\nNombre de 3 dans X_train 1010\nNombre de 4 dans X_train 982\nNombre de 5 dans X_train 892\nNombre de 6 dans X_train 958\nNombre de 7 dans X_train 1028\nNombre de 8 dans X_train 974\nNombre de 9 dans X_train 1009\n"
     ]
    }
   ],
   "source": [
    "# On compte le nombre d'éléments dan chaque classe dans la base de donnée X_test\n",
    "num_0_test = (y_test == 0).sum()\n",
    "print(\"Nombre de 0 dans X_test\", num_0_test)\n",
    "num_1_test = (y_test == 1).sum()\n",
    "print(\"Nombre de 0 dans X_test\", num_1_test)\n",
    "num_2_test = (y_test == 2).sum()\n",
    "print(\"Nombre de 0 dans X_test\", num_2_test)\n",
    "num_3_test = (y_test == 3).sum()\n",
    "print(\"Nombre de 0 dans X_test\", num_3_test)\n",
    "num_4_test = (y_test == 4).sum()\n",
    "print(\"Nombre de 0 dans X_test\", num_4_test)\n",
    "num_5_test = (y_test == 5).sum()\n",
    "print(\"Nombre de 0 dans X_test\", num_5_test)\n",
    "num_6_test = (y_test == 6).sum()\n",
    "print(\"Nombre de 0 dans X_test\", num_6_test)\n",
    "num_7_test = (y_test == 7).sum()\n",
    "print(\"Nombre de 0 dans X_test\", num_7_test)\n",
    "num_8_test = (y_test == 8).sum()\n",
    "print(\"Nombre de 0 dans X_test\", num_8_test)\n",
    "num_9_test = (y_test == 9).sum()\n",
    "print(\"Nombre de 0 dans X_test\", num_9_test)"
   ]
  },
  {
   "cell_type": "markdown",
   "metadata": {},
   "source": [
    "De même que précédemment on constate qu'il y a à peu près le même nombre d'élément de chaque classe ce qui permettra d'évaluer nos modèles de manère fiable.\n",
    "Maintenant on s'intéressera à l'élaboration de différents modèles."
   ]
  },
  {
   "cell_type": "code",
   "execution_count": null,
   "metadata": {},
   "outputs": [],
   "source": [
    ""
   ]
  }
 ],
 "metadata": {
  "kernelspec": {
   "display_name": "Python 2",
   "language": "python",
   "name": "python2"
  },
  "language_info": {
   "codemirror_mode": {
    "name": "ipython",
    "version": 2.0
   },
   "file_extension": ".py",
   "mimetype": "text/x-python",
   "name": "python",
   "nbconvert_exporter": "python",
   "pygments_lexer": "ipython2",
   "version": "2.7.6"
  }
 },
 "nbformat": 4,
 "nbformat_minor": 0
}