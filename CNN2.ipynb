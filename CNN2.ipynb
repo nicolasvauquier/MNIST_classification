{
 "cells": [
  {
   "cell_type": "code",
   "execution_count": 4,
   "metadata": {
    "collapsed": true
   },
   "outputs": [],
   "source": [
    "# Create a CNN for MNIST\n",
    "import numpy\n",
    "from keras.datasets import mnist\n",
    "from keras.models import Sequential\n",
    "from keras.layers import Dense\n",
    "from keras.layers import Dropout\n",
    "from keras.layers import Flatten\n",
    "from keras.layers.convolutional import Conv2D\n",
    "from keras.layers.convolutional import MaxPooling2D\n",
    "from keras.optimizers import SGD\n",
    "from keras.layers import Dropout\n",
    "from keras.utils import np_utils\n",
    "from keras import backend as K\n",
    "K.set_image_dim_ordering('th')\n",
    "\n",
    "seed = 7\n",
    "numpy.random.seed(seed)\n",
    "# Load data\n",
    "(X_train, y_train), (X_test, y_test) = mnist.load_data()\n",
    "# reshape\n",
    "X_train = X_train.reshape(X_train.shape[0], 1, 28, 28).astype('float32')  # permet plus tard d'utiliser Conv2D\n",
    "X_test = X_test.reshape(X_test.shape[0], 1, 28, 28).astype('float32')  # permet plus tard d'utiliser Conv2D\n",
    "# normalize\n",
    "X_train = X_train/255\n",
    "X_test = X_test/255\n",
    "\n",
    "# one hot encode output\n",
    "y_train = np_utils.to_categorical(y_train)\n",
    "y_test = np_utils.to_categorical(y_test)\n",
    "num_classes = y_test.shape[1]"
   ]
  },
  {
   "cell_type": "code",
   "execution_count": 8,
   "metadata": {
    "collapsed": false
   },
   "outputs": [
    {
     "name": "stdout",
     "output_type": "stream",
     "text": [
      "Train on 60000 samples, validate on 10000 samples\nEpoch 1/50\n"
     ]
    },
    {
     "name": "stdout",
     "output_type": "stream",
     "text": [
      "60s - loss: 0.8882 - acc: 0.6951 - val_loss: 0.1718 - val_acc: 0.9506\nEpoch 2/50\n"
     ]
    },
    {
     "name": "stdout",
     "output_type": "stream",
     "text": [
      "59s - loss: 0.2054 - acc: 0.9366 - val_loss: 0.0734 - val_acc: 0.9781\nEpoch 3/50\n"
     ]
    },
    {
     "name": "stdout",
     "output_type": "stream",
     "text": [
      "59s - loss: 0.1342 - acc: 0.9582 - val_loss: 0.0506 - val_acc: 0.9845\nEpoch 4/50\n"
     ]
    },
    {
     "name": "stdout",
     "output_type": "stream",
     "text": [
      "58s - loss: 0.1053 - acc: 0.9681 - val_loss: 0.0460 - val_acc: 0.9872\nEpoch 5/50\n"
     ]
    },
    {
     "name": "stdout",
     "output_type": "stream",
     "text": [
      "59s - loss: 0.0904 - acc: 0.9713 - val_loss: 0.0376 - val_acc: 0.9878\nEpoch 6/50\n"
     ]
    },
    {
     "name": "stdout",
     "output_type": "stream",
     "text": [
      "59s - loss: 0.0791 - acc: 0.9754 - val_loss: 0.0348 - val_acc: 0.9890\nEpoch 7/50\n"
     ]
    },
    {
     "name": "stdout",
     "output_type": "stream",
     "text": [
      "59s - loss: 0.0718 - acc: 0.9778 - val_loss: 0.0327 - val_acc: 0.9902\nEpoch 8/50\n"
     ]
    },
    {
     "name": "stdout",
     "output_type": "stream",
     "text": [
      "59s - loss: 0.0648 - acc: 0.9792 - val_loss: 0.0367 - val_acc: 0.9880\nEpoch 9/50\n"
     ]
    },
    {
     "name": "stdout",
     "output_type": "stream",
     "text": [
      "59s - loss: 0.0592 - acc: 0.9823 - val_loss: 0.0277 - val_acc: 0.9909\nEpoch 10/50\n"
     ]
    },
    {
     "name": "stdout",
     "output_type": "stream",
     "text": [
      "59s - loss: 0.0573 - acc: 0.9822 - val_loss: 0.0316 - val_acc: 0.9899\nEpoch 11/50\n"
     ]
    },
    {
     "name": "stdout",
     "output_type": "stream",
     "text": [
      "59s - loss: 0.0540 - acc: 0.9826 - val_loss: 0.0250 - val_acc: 0.9932\nEpoch 12/50\n"
     ]
    },
    {
     "name": "stdout",
     "output_type": "stream",
     "text": [
      "59s - loss: 0.0495 - acc: 0.9843 - val_loss: 0.0244 - val_acc: 0.9925\nEpoch 13/50\n"
     ]
    },
    {
     "name": "stdout",
     "output_type": "stream",
     "text": [
      "59s - loss: 0.0490 - acc: 0.9851 - val_loss: 0.0221 - val_acc: 0.9936\nEpoch 14/50\n"
     ]
    },
    {
     "name": "stdout",
     "output_type": "stream",
     "text": [
      "59s - loss: 0.0458 - acc: 0.9859 - val_loss: 0.0232 - val_acc: 0.9938\nEpoch 15/50\n"
     ]
    },
    {
     "name": "stdout",
     "output_type": "stream",
     "text": [
      "60s - loss: 0.0450 - acc: 0.9858 - val_loss: 0.0225 - val_acc: 0.9932\nEpoch 16/50\n"
     ]
    },
    {
     "name": "stdout",
     "output_type": "stream",
     "text": [
      "60s - loss: 0.0417 - acc: 0.9868 - val_loss: 0.0207 - val_acc: 0.9939\nEpoch 17/50\n"
     ]
    },
    {
     "name": "stdout",
     "output_type": "stream",
     "text": [
      "59s - loss: 0.0421 - acc: 0.9866 - val_loss: 0.0206 - val_acc: 0.9937\nEpoch 18/50\n"
     ]
    },
    {
     "name": "stdout",
     "output_type": "stream",
     "text": [
      "59s - loss: 0.0402 - acc: 0.9871 - val_loss: 0.0245 - val_acc: 0.9935\nEpoch 19/50\n"
     ]
    },
    {
     "name": "stdout",
     "output_type": "stream",
     "text": [
      "59s - loss: 0.0384 - acc: 0.9880 - val_loss: 0.0188 - val_acc: 0.9943\nEpoch 20/50\n"
     ]
    },
    {
     "name": "stdout",
     "output_type": "stream",
     "text": [
      "59s - loss: 0.0365 - acc: 0.9888 - val_loss: 0.0206 - val_acc: 0.9933\nEpoch 21/50\n"
     ]
    },
    {
     "name": "stdout",
     "output_type": "stream",
     "text": [
      "59s - loss: 0.0361 - acc: 0.9886 - val_loss: 0.0186 - val_acc: 0.9940\nEpoch 22/50\n"
     ]
    },
    {
     "name": "stdout",
     "output_type": "stream",
     "text": [
      "58s - loss: 0.0340 - acc: 0.9891 - val_loss: 0.0211 - val_acc: 0.9940\nEpoch 23/50\n"
     ]
    },
    {
     "name": "stdout",
     "output_type": "stream",
     "text": [
      "58s - loss: 0.0357 - acc: 0.9885 - val_loss: 0.0193 - val_acc: 0.9947\nEpoch 24/50\n"
     ]
    },
    {
     "name": "stdout",
     "output_type": "stream",
     "text": [
      "58s - loss: 0.0324 - acc: 0.9897 - val_loss: 0.0197 - val_acc: 0.9936\nEpoch 25/50\n"
     ]
    },
    {
     "name": "stdout",
     "output_type": "stream",
     "text": [
      "58s - loss: 0.0317 - acc: 0.9897 - val_loss: 0.0212 - val_acc: 0.9939\nEpoch 26/50\n"
     ]
    },
    {
     "name": "stdout",
     "output_type": "stream",
     "text": [
      "58s - loss: 0.0306 - acc: 0.9902 - val_loss: 0.0186 - val_acc: 0.9942\nEpoch 27/50\n"
     ]
    },
    {
     "name": "stdout",
     "output_type": "stream",
     "text": [
      "58s - loss: 0.0313 - acc: 0.9902 - val_loss: 0.0181 - val_acc: 0.9944\nEpoch 28/50\n"
     ]
    },
    {
     "name": "stdout",
     "output_type": "stream",
     "text": [
      "58s - loss: 0.0292 - acc: 0.9906 - val_loss: 0.0171 - val_acc: 0.9947\nEpoch 29/50\n"
     ]
    },
    {
     "name": "stdout",
     "output_type": "stream",
     "text": [
      "58s - loss: 0.0295 - acc: 0.9904 - val_loss: 0.0194 - val_acc: 0.9935\nEpoch 30/50\n"
     ]
    },
    {
     "name": "stdout",
     "output_type": "stream",
     "text": [
      "58s - loss: 0.0278 - acc: 0.9914 - val_loss: 0.0172 - val_acc: 0.9948\nEpoch 31/50\n"
     ]
    },
    {
     "name": "stdout",
     "output_type": "stream",
     "text": [
      "59s - loss: 0.0285 - acc: 0.9907 - val_loss: 0.0173 - val_acc: 0.9942\nEpoch 32/50\n"
     ]
    },
    {
     "name": "stdout",
     "output_type": "stream",
     "text": [
      "59s - loss: 0.0279 - acc: 0.9907 - val_loss: 0.0178 - val_acc: 0.9942\nEpoch 33/50\n"
     ]
    },
    {
     "name": "stdout",
     "output_type": "stream",
     "text": [
      "59s - loss: 0.0275 - acc: 0.9913 - val_loss: 0.0172 - val_acc: 0.9949\nEpoch 34/50\n"
     ]
    },
    {
     "name": "stdout",
     "output_type": "stream",
     "text": [
      "59s - loss: 0.0271 - acc: 0.9915 - val_loss: 0.0184 - val_acc: 0.9946\nEpoch 35/50\n"
     ]
    },
    {
     "name": "stdout",
     "output_type": "stream",
     "text": [
      "59s - loss: 0.0278 - acc: 0.9911 - val_loss: 0.0183 - val_acc: 0.9940\nEpoch 36/50\n"
     ]
    },
    {
     "name": "stdout",
     "output_type": "stream",
     "text": [
      "59s - loss: 0.0237 - acc: 0.9923 - val_loss: 0.0171 - val_acc: 0.9937\nEpoch 37/50\n"
     ]
    },
    {
     "name": "stdout",
     "output_type": "stream",
     "text": [
      "59s - loss: 0.0264 - acc: 0.9915 - val_loss: 0.0178 - val_acc: 0.9938\nEpoch 38/50\n"
     ]
    },
    {
     "name": "stdout",
     "output_type": "stream",
     "text": [
      "59s - loss: 0.0245 - acc: 0.9924 - val_loss: 0.0169 - val_acc: 0.9947\nEpoch 39/50\n"
     ]
    },
    {
     "name": "stdout",
     "output_type": "stream",
     "text": [
      "59s - loss: 0.0234 - acc: 0.9929 - val_loss: 0.0205 - val_acc: 0.9935\nEpoch 40/50\n"
     ]
    },
    {
     "name": "stdout",
     "output_type": "stream",
     "text": [
      "59s - loss: 0.0238 - acc: 0.9921 - val_loss: 0.0179 - val_acc: 0.9944\nEpoch 41/50\n"
     ]
    },
    {
     "name": "stdout",
     "output_type": "stream",
     "text": [
      "59s - loss: 0.0235 - acc: 0.9923 - val_loss: 0.0172 - val_acc: 0.9942\nEpoch 42/50\n"
     ]
    },
    {
     "name": "stdout",
     "output_type": "stream",
     "text": [
      "59s - loss: 0.0228 - acc: 0.9923 - val_loss: 0.0168 - val_acc: 0.9954\nEpoch 43/50\n"
     ]
    },
    {
     "name": "stdout",
     "output_type": "stream",
     "text": [
      "58s - loss: 0.0232 - acc: 0.9927 - val_loss: 0.0165 - val_acc: 0.9948\nEpoch 44/50\n"
     ]
    },
    {
     "name": "stdout",
     "output_type": "stream",
     "text": [
      "59s - loss: 0.0227 - acc: 0.9927 - val_loss: 0.0164 - val_acc: 0.9944\nEpoch 45/50\n"
     ]
    },
    {
     "name": "stdout",
     "output_type": "stream",
     "text": [
      "59s - loss: 0.0215 - acc: 0.9932 - val_loss: 0.0160 - val_acc: 0.9947\nEpoch 46/50\n"
     ]
    },
    {
     "name": "stdout",
     "output_type": "stream",
     "text": [
      "59s - loss: 0.0216 - acc: 0.9929 - val_loss: 0.0168 - val_acc: 0.9950\nEpoch 47/50\n"
     ]
    },
    {
     "name": "stdout",
     "output_type": "stream",
     "text": [
      "59s - loss: 0.0220 - acc: 0.9930 - val_loss: 0.0168 - val_acc: 0.9952\nEpoch 48/50\n"
     ]
    },
    {
     "name": "stdout",
     "output_type": "stream",
     "text": [
      "59s - loss: 0.0213 - acc: 0.9932 - val_loss: 0.0172 - val_acc: 0.9944\nEpoch 49/50\n"
     ]
    },
    {
     "name": "stdout",
     "output_type": "stream",
     "text": [
      "59s - loss: 0.0227 - acc: 0.9925 - val_loss: 0.0215 - val_acc: 0.9936\nEpoch 50/50\n"
     ]
    },
    {
     "name": "stdout",
     "output_type": "stream",
     "text": [
      "59s - loss: 0.0219 - acc: 0.9931 - val_loss: 0.0168 - val_acc: 0.9949\n"
     ]
    },
    {
     "name": "stdout",
     "output_type": "stream",
     "text": [
      "Large CNN Error: 0.51%\n"
     ]
    }
   ],
   "source": [
    "def model():\n",
    "    # create model\n",
    "    model = Sequential()\n",
    "    model.add(Conv2D(32, (3, 3), input_shape=(1, 28, 28), activation='relu'))\n",
    "    model.add(Dropout(0.3))\n",
    "    model.add(Conv2D(32, (3, 3), input_shape=(1, 28, 28), activation='relu'))\n",
    "    model.add(MaxPooling2D(pool_size=(2, 2)))\n",
    "    model.add(Conv2D(64, (3, 3), activation='relu'))\n",
    "    model.add(Dropout(0.3))\n",
    "    model.add(Conv2D(64, (3, 3), activation='relu'))\n",
    "    model.add(MaxPooling2D(pool_size=(2, 2)))\n",
    "    model.add(Dropout(0.3))\n",
    "    \n",
    "    model.add(Conv2D(64, (1, 1), activation='relu'))\n",
    "    model.add(Dropout(0.3))\n",
    "    model.add(Conv2D(64, (1, 1), activation='relu'))\n",
    "    \n",
    "    model.add(Dropout(0.3))\n",
    "    model.add(Flatten())\n",
    "    model.add(Dense(512, activation='relu'))\n",
    "    model.add(Dropout(0.3))\n",
    "    model.add(Dense(256, activation='relu'))\n",
    "    model.add(Dense(num_classes, activation='softmax'))\n",
    "    # compile model\n",
    "    \n",
    "    sgd = SGD(lr=0.2, momentum=0.0, decay=0.0001, nesterov=False)\n",
    "    model.compile(loss='categorical_crossentropy', optimizer=sgd, metrics=['accuracy'])\n",
    "    return model\n",
    "\n",
    "# build model\n",
    "model = model()\n",
    "# fit the model\n",
    "model.fit(X_train, y_train, validation_data=(X_test, y_test), epochs=50, batch_size=200, verbose=2)\n",
    "# final evaluation\n",
    "scores = model.evaluate(X_test, y_test, verbose=0)\n",
    "print(\"Large CNN Error: %.2f%%\" % (100-scores[1]*100))"
   ]
  },
  {
   "cell_type": "code",
   "execution_count": null,
   "metadata": {},
   "outputs": [],
   "source": [
    ""
   ]
  }
 ],
 "metadata": {
  "kernelspec": {
   "display_name": "Python 2",
   "language": "python",
   "name": "python2"
  },
  "language_info": {
   "codemirror_mode": {
    "name": "ipython",
    "version": 2.0
   },
   "file_extension": ".py",
   "mimetype": "text/x-python",
   "name": "python",
   "nbconvert_exporter": "python",
   "pygments_lexer": "ipython2",
   "version": "2.7.6"
  }
 },
 "nbformat": 4,
 "nbformat_minor": 0
}